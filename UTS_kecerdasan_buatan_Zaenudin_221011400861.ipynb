{
 "cells": [
  {
   "cell_type": "code",
   "execution_count": 25,
   "id": "ecc55079-05e3-4bea-a3d8-e0e41eeb9a8d",
   "metadata": {},
   "outputs": [],
   "source": [
    "# Data\n",
    "\n",
    "company_detail_list = [\n",
    "      {\n",
    "          'name': 'Company 1',\n",
    "          'domain': 'Retail',\n",
    "          'country': 'United States'\n",
    "      },\n",
    "      {\n",
    "          'name': 'Company 2',\n",
    "          'domain': 'Technology',\n",
    "          'country': 'United Kingdom'\n",
    "      },\n",
    "      {\n",
    "          'name': 'Company 3',\n",
    "          'domain': 'Healthcare',\n",
    "          'country': 'United States'\n",
    "      }\n",
    "  ]\n",
    "\n",
    "employee_detail_list = [\n",
    "     {\n",
    "          'name': 'EMP-0001',\n",
    "          'first_name': 'John',\n",
    "          'last_name': 'Doe',\n",
    "          'full_name': 'John Doe',\n",
    "          'company': 'Company 1',\n",
    "          'nationality': 'Australia'\n",
    "      },\n",
    "      {\n",
    "          'name': 'EMP-0002',\n",
    "          'first_name': 'Tom',\n",
    "          'last_name': 'Smith',\n",
    "          'full_name': 'Tom Smith',\n",
    "          'company': 'Company 2',\n",
    "          'nationality': 'United States'\n",
    "      },\n",
    "      {\n",
    "          'name': 'EMP-0003',\n",
    "          'first_name': 'Andrew',\n",
    "          'last_name': 'Sebastian',\n",
    "          'full_name': 'Andrew Sebastian',\n",
    "          'company': 'Company 3',\n",
    "          'nationality': 'United States'\n",
    "      },\n",
    "      {\n",
    "          'name': 'EMP-0005',\n",
    "          'first_name': 'Ying Han',\n",
    "          'last_name': 'Tan',\n",
    "          'full_name': 'Ying Han Tan',\n",
    "          'company': 'Company 1',\n",
    "          'nationality': 'Australia'\n",
    "      },\n",
    "      {\n",
    "          'name': 'EMP-0015',\n",
    "          'first_name': 'Kenneth',\n",
    "          'last_name': 'Ng',\n",
    "          'full_name': 'Kenneth Ng',\n",
    "          'company': 'Company 3',\n",
    "          'nationality': 'United States'\n",
    "      },\n",
    "      {\n",
    "          'name': 'EMP-0018',\n",
    "          'first_name': 'Rubby',\n",
    "          'last_name': 'Lee',\n",
    "          'full_name': 'Rubby Lee',\n",
    "          'company': 'Company 2',\n",
    "          'nationality': 'Hong Kong'\n",
    "      },\n",
    "     {\n",
    "          'name': 'EMP-0017',\n",
    "          'first_name': 'Robert',\n",
    "          'last_name': 'White',\n",
    "          'full_name': 'Robert White',\n",
    "          'company': 'Company 1',\n",
    "          'nationality': 'United Kingdom'\n",
    "      }\n",
    "  ]\n"
   ]
  },
  {
   "cell_type": "code",
   "execution_count": 28,
   "id": "79e54393-274b-4624-a55f-cfdd4e5fdf0b",
   "metadata": {},
   "outputs": [
    {
     "data": {
      "text/plain": [
       "[{'name': 'Company 3'}, {'name': 'Company 2'}, {'name': 'Company 1'}]"
      ]
     },
     "execution_count": 28,
     "metadata": {},
     "output_type": "execute_result"
    }
   ],
   "source": [
    "# nomor 1\n",
    "# Urutkan daftar perusahaan berdasarkan nama secara terbalik\n",
    "def reverse_company_names(company_list):\n",
    "    return [{\"name\": company[\"name\"]} for company in sorted(company_list, key=lambda x: x[\"name\"], reverse=True)]\n",
    "\n",
    "reverse_company_names(company_detail_list)"
   ]
  },
  {
   "cell_type": "code",
   "execution_count": 4,
   "id": "5a46488c-252f-4e1f-aa76-ce5b014b7a83",
   "metadata": {},
   "outputs": [
    {
     "name": "stdout",
     "output_type": "stream",
     "text": [
      "Company 1: Retail (United States)\n",
      "Company 2: Technology (United Kingdom)\n",
      "Company 3: Healthcare (United States)\n"
     ]
    }
   ],
   "source": [
    "#nomor 2\n",
    "#cetak semua nilai Domain di setiap perusahaan\n",
    "for company in datacompany_detail_list:\n",
    "    print(f\"{company['name']}: {company['domain']} ({company['country']})\")"
   ]
  },
  {
   "cell_type": "code",
   "execution_count": 11,
   "id": "831a1e65-c136-45f3-8c73-cb7416afd65c",
   "metadata": {},
   "outputs": [
    {
     "name": "stdout",
     "output_type": "stream",
     "text": [
      "{'Retail': ['John Doe', 'Ying Han Tan', 'Robert White'], 'Technology': ['Tom Smith', 'Ruby Lee'], 'Healthcare': ['Andrew Sebastian', 'Kenneth Ng']}\n"
     ]
    }
   ],
   "source": [
    "# nomor 3\n",
    "#Daftar semua Karyawan bekerja Berdasarkan domain perusahaan\n",
    "employees_by_domain = {}\n",
    "for company in company_detail_list:\n",
    "    domain = company['domain']\n",
    "    employees_by_domain.setdefault(domain, []).extend(\n",
    "        employee['full_name'] for employee in employee_detail_list if employee['company'] == company['name']\n",
    "    )\n",
    "\n",
    "print(employees_by_domain)"
   ]
  },
  {
   "cell_type": "code",
   "execution_count": 29,
   "id": "0c0a8186-5f12-4e88-8ce2-a10d0aa351d8",
   "metadata": {},
   "outputs": [
    {
     "data": {
      "text/plain": [
       "[{'full_name': 'John Doe', 'company': 'Company 1', 'country': 'United States'},\n",
       " {'full_name': 'Tom Smith',\n",
       "  'company': 'Company 2',\n",
       "  'country': 'United Kingdom'},\n",
       " {'full_name': 'Andrew Sebastian',\n",
       "  'company': 'Company 3',\n",
       "  'country': 'United States'},\n",
       " {'full_name': 'Ying Han Tan',\n",
       "  'company': 'Company 1',\n",
       "  'country': 'United States'},\n",
       " {'full_name': 'Kenneth Ng',\n",
       "  'company': 'Company 3',\n",
       "  'country': 'United States'},\n",
       " {'full_name': 'Rubby Lee',\n",
       "  'company': 'Company 2',\n",
       "  'country': 'United Kingdom'},\n",
       " {'full_name': 'Robert White',\n",
       "  'company': 'Company 1',\n",
       "  'country': 'United States'}]"
      ]
     },
     "execution_count": 29,
     "metadata": {},
     "output_type": "execute_result"
    }
   ],
   "source": [
    "#nomor 4\n",
    "# Membuat fungsi yang mengembalikan karyawan dengan negara perusahaannya.\n",
    "def employees_with_company_country(company_list, employee_list):\n",
    "    # Buat mapping antara perusahaan dan negara\n",
    "    country_mapping = {company[\"name\"]: company[\"country\"] for company in company_list}\n",
    "    # Buat daftar hasil berdasarkan negara perusahaan\n",
    "    result = []\n",
    "    for employee in employee_list:\n",
    "        result.append({\n",
    "            \"full_name\": employee[\"full_name\"],\n",
    "            \"company\": employee[\"company\"],\n",
    "            \"country\": country_mapping.get(employee[\"company\"])\n",
    "        })\n",
    "    return result\n",
    "\n",
    "employees_with_company_country(company_detail_list, employee_detail_list)"
   ]
  },
  {
   "cell_type": "code",
   "execution_count": 32,
   "id": "b9af70b4-9170-43d8-8016-6ea026c41f46",
   "metadata": {},
   "outputs": [
    {
     "data": {
      "text/plain": [
       "[{'company': 'Company 1',\n",
       "  'employee_nationality': {'Australia': 2, 'United Kingdom': 1}},\n",
       " {'company': 'Company 2',\n",
       "  'employee_nationality': {'United States': 1, 'Hong Kong': 1}},\n",
       " {'company': 'Company 3', 'employee_nationality': {'United States': 2}}]"
      ]
     },
     "execution_count": 32,
     "metadata": {},
     "output_type": "execute_result"
    }
   ],
   "source": [
    "#nomor 5\n",
    "#Membuat fungsi yang mengembalikan data perusahaan dengan sejumlah karyawan berkewarganegaraan yang bekerja di perusahaan tersebut. \n",
    "from collections import Counter\n",
    "\n",
    "def company_employee_nationalities(company_list, employee_list):\n",
    "    # Buat dictionary untuk menyimpan hasil\n",
    "    result = []\n",
    "    for company in company_list:\n",
    "        # Filter karyawan berdasarkan perusahaan\n",
    "        employees = [emp for emp in employee_list if emp[\"company\"] == company[\"name\"]]\n",
    "        # Hitung jumlah kewarganegaraan\n",
    "        nationality_count = Counter(emp[\"nationality\"] for emp in employees)\n",
    "        result.append({\n",
    "            \"company\": company[\"name\"],\n",
    "            \"employee_nationality\": dict(nationality_count)\n",
    "        })\n",
    "    return result\n",
    "\n",
    "company_employee_nationalities(company_detail_list, employee_detail_list)"
   ]
  },
  {
   "cell_type": "code",
   "execution_count": null,
   "id": "a1baf4b4-0c1e-42ff-b16f-be9fc3051f25",
   "metadata": {},
   "outputs": [],
   "source": []
  },
  {
   "cell_type": "code",
   "execution_count": null,
   "id": "d2680465-7a50-484e-87f0-1a72b0c62dee",
   "metadata": {},
   "outputs": [],
   "source": []
  }
 ],
 "metadata": {
  "kernelspec": {
   "display_name": "Python 3 (ipykernel)",
   "language": "python",
   "name": "python3"
  },
  "language_info": {
   "codemirror_mode": {
    "name": "ipython",
    "version": 3
   },
   "file_extension": ".py",
   "mimetype": "text/x-python",
   "name": "python",
   "nbconvert_exporter": "python",
   "pygments_lexer": "ipython3",
   "version": "3.10.8"
  }
 },
 "nbformat": 4,
 "nbformat_minor": 5
}
